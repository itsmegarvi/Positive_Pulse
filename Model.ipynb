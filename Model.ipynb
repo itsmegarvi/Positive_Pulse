{
 "cells": [
  {
   "attachments": {},
   "cell_type": "markdown",
   "metadata": {},
   "source": [
    "# Positive Pulse"
   ]
  },
  {
   "cell_type": "code",
   "execution_count": 40,
   "metadata": {},
   "outputs": [],
   "source": [
    "import numpy as np\n",
    "import pandas as pd\n",
    "import nltk\n",
    "from nltk.tokenize import word_tokenize\n",
    "from nltk.corpus import stopwords\n",
    "from nltk.stem import WordNetLemmatizer\n",
    "import matplotlib.pyplot as plt\n",
    "from sklearn.feature_extraction.text import TfidfVectorizer\n",
    "from sklearn.model_selection import train_test_split\n",
    "from sklearn.linear_model import LogisticRegression\n",
    "from sklearn.svm import SVC\n",
    "from sklearn.ensemble import RandomForestClassifier\n",
    "from sklearn.metrics import confusion_matrix, f1_score, accuracy_score\n",
    "import re"
   ]
  },
  {
   "cell_type": "code",
   "execution_count": 41,
   "metadata": {},
   "outputs": [],
   "source": [
    "\n",
    "from wordcloud import WordCloud,STOPWORDS"
   ]
  },
  {
   "cell_type": "code",
   "execution_count": 42,
   "metadata": {},
   "outputs": [
    {
     "data": {
      "text/html": [
       "<div>\n",
       "<style scoped>\n",
       "    .dataframe tbody tr th:only-of-type {\n",
       "        vertical-align: middle;\n",
       "    }\n",
       "\n",
       "    .dataframe tbody tr th {\n",
       "        vertical-align: top;\n",
       "    }\n",
       "\n",
       "    .dataframe thead th {\n",
       "        text-align: right;\n",
       "    }\n",
       "</style>\n",
       "<table border=\"1\" class=\"dataframe\">\n",
       "  <thead>\n",
       "    <tr style=\"text-align: right;\">\n",
       "      <th></th>\n",
       "      <th>Unnamed: 0.1</th>\n",
       "      <th>Unnamed: 0</th>\n",
       "      <th>Tweet Date</th>\n",
       "      <th>Tweet ID</th>\n",
       "      <th>Tweet Text</th>\n",
       "      <th>tweet_source</th>\n",
       "      <th>tweet_retweet_count</th>\n",
       "      <th>tweet_favorite_count</th>\n",
       "      <th>word_count</th>\n",
       "      <th>char_count</th>\n",
       "      <th>...</th>\n",
       "      <th>year</th>\n",
       "      <th>month</th>\n",
       "      <th>day</th>\n",
       "      <th>unique_word_count</th>\n",
       "      <th>stop_word_count</th>\n",
       "      <th>url_count</th>\n",
       "      <th>mean_word_length</th>\n",
       "      <th>hashtag_count</th>\n",
       "      <th>mention_count</th>\n",
       "      <th>burnout</th>\n",
       "    </tr>\n",
       "  </thead>\n",
       "  <tbody>\n",
       "    <tr>\n",
       "      <th>0</th>\n",
       "      <td>0</td>\n",
       "      <td>0</td>\n",
       "      <td>2021-01-19</td>\n",
       "      <td>1351590096752017416</td>\n",
       "      <td>I'm a big music person. It speaks to me in all...</td>\n",
       "      <td>Twitter for Android</td>\n",
       "      <td>0.0</td>\n",
       "      <td>6.0</td>\n",
       "      <td>27.0</td>\n",
       "      <td>142.0</td>\n",
       "      <td>...</td>\n",
       "      <td>2021.0</td>\n",
       "      <td>1.0</td>\n",
       "      <td>19.0</td>\n",
       "      <td>25.0</td>\n",
       "      <td>15.0</td>\n",
       "      <td>1.0</td>\n",
       "      <td>4.296296</td>\n",
       "      <td>0.0</td>\n",
       "      <td>0.0</td>\n",
       "      <td>1.0</td>\n",
       "    </tr>\n",
       "    <tr>\n",
       "      <th>1</th>\n",
       "      <td>1</td>\n",
       "      <td>1</td>\n",
       "      <td>2021-01-19</td>\n",
       "      <td>1351555038863368193</td>\n",
       "      <td>@JohnWHarris15 I adore you and your unlimited ...</td>\n",
       "      <td>Twitter for Android</td>\n",
       "      <td>0.0</td>\n",
       "      <td>1.0</td>\n",
       "      <td>9.0</td>\n",
       "      <td>59.0</td>\n",
       "      <td>...</td>\n",
       "      <td>2021.0</td>\n",
       "      <td>1.0</td>\n",
       "      <td>19.0</td>\n",
       "      <td>9.0</td>\n",
       "      <td>4.0</td>\n",
       "      <td>0.0</td>\n",
       "      <td>5.555556</td>\n",
       "      <td>0.0</td>\n",
       "      <td>1.0</td>\n",
       "      <td>1.0</td>\n",
       "    </tr>\n",
       "    <tr>\n",
       "      <th>2</th>\n",
       "      <td>2</td>\n",
       "      <td>2</td>\n",
       "      <td>2021-01-19</td>\n",
       "      <td>1351554892926750720</td>\n",
       "      <td>@bubblydncer I have replied to countless texts...</td>\n",
       "      <td>Twitter for Android</td>\n",
       "      <td>0.0</td>\n",
       "      <td>1.0</td>\n",
       "      <td>22.0</td>\n",
       "      <td>142.0</td>\n",
       "      <td>...</td>\n",
       "      <td>2021.0</td>\n",
       "      <td>1.0</td>\n",
       "      <td>19.0</td>\n",
       "      <td>20.0</td>\n",
       "      <td>10.0</td>\n",
       "      <td>1.0</td>\n",
       "      <td>5.500000</td>\n",
       "      <td>0.0</td>\n",
       "      <td>1.0</td>\n",
       "      <td>1.0</td>\n",
       "    </tr>\n",
       "    <tr>\n",
       "      <th>3</th>\n",
       "      <td>3</td>\n",
       "      <td>3</td>\n",
       "      <td>2021-01-19</td>\n",
       "      <td>1351554395234824192</td>\n",
       "      <td>@MelBeer93 Ahhh I love this!</td>\n",
       "      <td>Twitter for Android</td>\n",
       "      <td>0.0</td>\n",
       "      <td>0.0</td>\n",
       "      <td>5.0</td>\n",
       "      <td>29.0</td>\n",
       "      <td>...</td>\n",
       "      <td>2021.0</td>\n",
       "      <td>1.0</td>\n",
       "      <td>19.0</td>\n",
       "      <td>5.0</td>\n",
       "      <td>1.0</td>\n",
       "      <td>0.0</td>\n",
       "      <td>4.800000</td>\n",
       "      <td>0.0</td>\n",
       "      <td>1.0</td>\n",
       "      <td>0.0</td>\n",
       "    </tr>\n",
       "    <tr>\n",
       "      <th>4</th>\n",
       "      <td>4</td>\n",
       "      <td>4</td>\n",
       "      <td>2021-01-19</td>\n",
       "      <td>1351554266247426050</td>\n",
       "      <td>@TheKimClub https://t.co/UUx3417HcD</td>\n",
       "      <td>Twitter for Android</td>\n",
       "      <td>0.0</td>\n",
       "      <td>1.0</td>\n",
       "      <td>2.0</td>\n",
       "      <td>35.0</td>\n",
       "      <td>...</td>\n",
       "      <td>2021.0</td>\n",
       "      <td>1.0</td>\n",
       "      <td>19.0</td>\n",
       "      <td>2.0</td>\n",
       "      <td>0.0</td>\n",
       "      <td>1.0</td>\n",
       "      <td>17.000000</td>\n",
       "      <td>0.0</td>\n",
       "      <td>1.0</td>\n",
       "      <td>1.0</td>\n",
       "    </tr>\n",
       "    <tr>\n",
       "      <th>...</th>\n",
       "      <td>...</td>\n",
       "      <td>...</td>\n",
       "      <td>...</td>\n",
       "      <td>...</td>\n",
       "      <td>...</td>\n",
       "      <td>...</td>\n",
       "      <td>...</td>\n",
       "      <td>...</td>\n",
       "      <td>...</td>\n",
       "      <td>...</td>\n",
       "      <td>...</td>\n",
       "      <td>...</td>\n",
       "      <td>...</td>\n",
       "      <td>...</td>\n",
       "      <td>...</td>\n",
       "      <td>...</td>\n",
       "      <td>...</td>\n",
       "      <td>...</td>\n",
       "      <td>...</td>\n",
       "      <td>...</td>\n",
       "      <td>...</td>\n",
       "    </tr>\n",
       "    <tr>\n",
       "      <th>1875</th>\n",
       "      <td>1874</td>\n",
       "      <td>2026</td>\n",
       "      <td>2021-01-11</td>\n",
       "      <td>1348687433978798080</td>\n",
       "      <td>in my lecture rn talking about covid</td>\n",
       "      <td>Twitter for iPhone</td>\n",
       "      <td>0.0</td>\n",
       "      <td>0.0</td>\n",
       "      <td>7.0</td>\n",
       "      <td>37.0</td>\n",
       "      <td>...</td>\n",
       "      <td>2021.0</td>\n",
       "      <td>1.0</td>\n",
       "      <td>11.0</td>\n",
       "      <td>7.0</td>\n",
       "      <td>3.0</td>\n",
       "      <td>0.0</td>\n",
       "      <td>4.285714</td>\n",
       "      <td>0.0</td>\n",
       "      <td>0.0</td>\n",
       "      <td>1.0</td>\n",
       "    </tr>\n",
       "    <tr>\n",
       "      <th>1876</th>\n",
       "      <td>1875</td>\n",
       "      <td>2027</td>\n",
       "      <td>2021-01-11</td>\n",
       "      <td>1348687432938647552</td>\n",
       "      <td>@buzzycalz @skinnyqweeen @hearteyezshawty im i...</td>\n",
       "      <td>Twitter for iPhone</td>\n",
       "      <td>0.0</td>\n",
       "      <td>2.0</td>\n",
       "      <td>27.0</td>\n",
       "      <td>174.0</td>\n",
       "      <td>...</td>\n",
       "      <td>2021.0</td>\n",
       "      <td>1.0</td>\n",
       "      <td>11.0</td>\n",
       "      <td>26.0</td>\n",
       "      <td>11.0</td>\n",
       "      <td>0.0</td>\n",
       "      <td>5.444444</td>\n",
       "      <td>0.0</td>\n",
       "      <td>3.0</td>\n",
       "      <td>1.0</td>\n",
       "    </tr>\n",
       "    <tr>\n",
       "      <th>1877</th>\n",
       "      <td>1876</td>\n",
       "      <td>2028</td>\n",
       "      <td>2021-01-11</td>\n",
       "      <td>1348687432913473536</td>\n",
       "      <td>@Death13__ Also this is just streams, videos a...</td>\n",
       "      <td>Twitter for Android</td>\n",
       "      <td>0.0</td>\n",
       "      <td>1.0</td>\n",
       "      <td>16.0</td>\n",
       "      <td>84.0</td>\n",
       "      <td>...</td>\n",
       "      <td>2021.0</td>\n",
       "      <td>1.0</td>\n",
       "      <td>11.0</td>\n",
       "      <td>16.0</td>\n",
       "      <td>8.0</td>\n",
       "      <td>0.0</td>\n",
       "      <td>4.312500</td>\n",
       "      <td>0.0</td>\n",
       "      <td>1.0</td>\n",
       "      <td>1.0</td>\n",
       "    </tr>\n",
       "    <tr>\n",
       "      <th>1878</th>\n",
       "      <td>1877</td>\n",
       "      <td>2029</td>\n",
       "      <td>2021-01-11</td>\n",
       "      <td>1348687432904892416</td>\n",
       "      <td>@Lyssss69 Honestly I just saw these on tiktok ...</td>\n",
       "      <td>Twitter for iPhone</td>\n",
       "      <td>0.0</td>\n",
       "      <td>1.0</td>\n",
       "      <td>15.0</td>\n",
       "      <td>74.0</td>\n",
       "      <td>...</td>\n",
       "      <td>2021.0</td>\n",
       "      <td>1.0</td>\n",
       "      <td>11.0</td>\n",
       "      <td>14.0</td>\n",
       "      <td>8.0</td>\n",
       "      <td>0.0</td>\n",
       "      <td>4.000000</td>\n",
       "      <td>0.0</td>\n",
       "      <td>1.0</td>\n",
       "      <td>0.0</td>\n",
       "    </tr>\n",
       "    <tr>\n",
       "      <th>1879</th>\n",
       "      <td>1878</td>\n",
       "      <td>2030</td>\n",
       "      <td>2021-01-11</td>\n",
       "      <td>1348687428589035522</td>\n",
       "      <td>@ariellelynn__ Seriously my favorite rn</td>\n",
       "      <td>Twitter for iPhone</td>\n",
       "      <td>0.0</td>\n",
       "      <td>0.0</td>\n",
       "      <td>5.0</td>\n",
       "      <td>39.0</td>\n",
       "      <td>...</td>\n",
       "      <td>2021.0</td>\n",
       "      <td>1.0</td>\n",
       "      <td>11.0</td>\n",
       "      <td>5.0</td>\n",
       "      <td>1.0</td>\n",
       "      <td>0.0</td>\n",
       "      <td>7.000000</td>\n",
       "      <td>0.0</td>\n",
       "      <td>1.0</td>\n",
       "      <td>0.0</td>\n",
       "    </tr>\n",
       "  </tbody>\n",
       "</table>\n",
       "<p>1880 rows × 23 columns</p>\n",
       "</div>"
      ],
      "text/plain": [
       "     Unnamed: 0.1 Unnamed: 0  Tweet Date             Tweet ID  \\\n",
       "0               0          0  2021-01-19  1351590096752017416   \n",
       "1               1          1  2021-01-19  1351555038863368193   \n",
       "2               2          2  2021-01-19  1351554892926750720   \n",
       "3               3          3  2021-01-19  1351554395234824192   \n",
       "4               4          4  2021-01-19  1351554266247426050   \n",
       "...           ...        ...         ...                  ...   \n",
       "1875         1874       2026  2021-01-11  1348687433978798080   \n",
       "1876         1875       2027  2021-01-11  1348687432938647552   \n",
       "1877         1876       2028  2021-01-11  1348687432913473536   \n",
       "1878         1877       2029  2021-01-11  1348687432904892416   \n",
       "1879         1878       2030  2021-01-11  1348687428589035522   \n",
       "\n",
       "                                             Tweet Text         tweet_source  \\\n",
       "0     I'm a big music person. It speaks to me in all...  Twitter for Android   \n",
       "1     @JohnWHarris15 I adore you and your unlimited ...  Twitter for Android   \n",
       "2     @bubblydncer I have replied to countless texts...  Twitter for Android   \n",
       "3                         @MelBeer93 Ahhh I love this!   Twitter for Android   \n",
       "4                   @TheKimClub https://t.co/UUx3417HcD  Twitter for Android   \n",
       "...                                                 ...                  ...   \n",
       "1875              in my lecture rn talking about covid    Twitter for iPhone   \n",
       "1876  @buzzycalz @skinnyqweeen @hearteyezshawty im i...   Twitter for iPhone   \n",
       "1877  @Death13__ Also this is just streams, videos a...  Twitter for Android   \n",
       "1878  @Lyssss69 Honestly I just saw these on tiktok ...   Twitter for iPhone   \n",
       "1879            @ariellelynn__ Seriously my favorite rn   Twitter for iPhone   \n",
       "\n",
       "      tweet_retweet_count  tweet_favorite_count  word_count  char_count  ...  \\\n",
       "0                     0.0                   6.0        27.0       142.0  ...   \n",
       "1                     0.0                   1.0         9.0        59.0  ...   \n",
       "2                     0.0                   1.0        22.0       142.0  ...   \n",
       "3                     0.0                   0.0         5.0        29.0  ...   \n",
       "4                     0.0                   1.0         2.0        35.0  ...   \n",
       "...                   ...                   ...         ...         ...  ...   \n",
       "1875                  0.0                   0.0         7.0        37.0  ...   \n",
       "1876                  0.0                   2.0        27.0       174.0  ...   \n",
       "1877                  0.0                   1.0        16.0        84.0  ...   \n",
       "1878                  0.0                   1.0        15.0        74.0  ...   \n",
       "1879                  0.0                   0.0         5.0        39.0  ...   \n",
       "\n",
       "        year  month   day  unique_word_count  stop_word_count  url_count  \\\n",
       "0     2021.0    1.0  19.0               25.0             15.0        1.0   \n",
       "1     2021.0    1.0  19.0                9.0              4.0        0.0   \n",
       "2     2021.0    1.0  19.0               20.0             10.0        1.0   \n",
       "3     2021.0    1.0  19.0                5.0              1.0        0.0   \n",
       "4     2021.0    1.0  19.0                2.0              0.0        1.0   \n",
       "...      ...    ...   ...                ...              ...        ...   \n",
       "1875  2021.0    1.0  11.0                7.0              3.0        0.0   \n",
       "1876  2021.0    1.0  11.0               26.0             11.0        0.0   \n",
       "1877  2021.0    1.0  11.0               16.0              8.0        0.0   \n",
       "1878  2021.0    1.0  11.0               14.0              8.0        0.0   \n",
       "1879  2021.0    1.0  11.0                5.0              1.0        0.0   \n",
       "\n",
       "      mean_word_length  hashtag_count  mention_count  burnout  \n",
       "0             4.296296            0.0            0.0      1.0  \n",
       "1             5.555556            0.0            1.0      1.0  \n",
       "2             5.500000            0.0            1.0      1.0  \n",
       "3             4.800000            0.0            1.0      0.0  \n",
       "4            17.000000            0.0            1.0      1.0  \n",
       "...                ...            ...            ...      ...  \n",
       "1875          4.285714            0.0            0.0      1.0  \n",
       "1876          5.444444            0.0            3.0      1.0  \n",
       "1877          4.312500            0.0            1.0      1.0  \n",
       "1878          4.000000            0.0            1.0      0.0  \n",
       "1879          7.000000            0.0            1.0      0.0  \n",
       "\n",
       "[1880 rows x 23 columns]"
      ]
     },
     "execution_count": 42,
     "metadata": {},
     "output_type": "execute_result"
    }
   ],
   "source": [
    "df = pd.read_csv(\"dataset/tweets.csv\")\n",
    "df"
   ]
  },
  {
   "cell_type": "code",
   "execution_count": 43,
   "metadata": {},
   "outputs": [
    {
     "data": {
      "text/plain": [
       "Index(['Unnamed: 0.1', 'Unnamed: 0', 'Tweet Date', 'Tweet ID', 'Tweet Text',\n",
       "       'tweet_source', 'tweet_retweet_count', 'tweet_favorite_count',\n",
       "       'word_count', 'char_count', 'word_density', 'punc_count', 'sentiment',\n",
       "       'year', 'month', 'day', 'unique_word_count', 'stop_word_count',\n",
       "       'url_count', 'mean_word_length', 'hashtag_count', 'mention_count',\n",
       "       'burnout'],\n",
       "      dtype='object')"
      ]
     },
     "execution_count": 43,
     "metadata": {},
     "output_type": "execute_result"
    }
   ],
   "source": [
    "df.columns"
   ]
  },
  {
   "cell_type": "code",
   "execution_count": 44,
   "metadata": {},
   "outputs": [
    {
     "data": {
      "text/html": [
       "<div>\n",
       "<style scoped>\n",
       "    .dataframe tbody tr th:only-of-type {\n",
       "        vertical-align: middle;\n",
       "    }\n",
       "\n",
       "    .dataframe tbody tr th {\n",
       "        vertical-align: top;\n",
       "    }\n",
       "\n",
       "    .dataframe thead th {\n",
       "        text-align: right;\n",
       "    }\n",
       "</style>\n",
       "<table border=\"1\" class=\"dataframe\">\n",
       "  <thead>\n",
       "    <tr style=\"text-align: right;\">\n",
       "      <th></th>\n",
       "      <th>Tweet Text</th>\n",
       "      <th>burnout</th>\n",
       "    </tr>\n",
       "  </thead>\n",
       "  <tbody>\n",
       "    <tr>\n",
       "      <th>0</th>\n",
       "      <td>I'm a big music person. It speaks to me in all...</td>\n",
       "      <td>1.0</td>\n",
       "    </tr>\n",
       "    <tr>\n",
       "      <th>1</th>\n",
       "      <td>@JohnWHarris15 I adore you and your unlimited ...</td>\n",
       "      <td>1.0</td>\n",
       "    </tr>\n",
       "    <tr>\n",
       "      <th>2</th>\n",
       "      <td>@bubblydncer I have replied to countless texts...</td>\n",
       "      <td>1.0</td>\n",
       "    </tr>\n",
       "    <tr>\n",
       "      <th>3</th>\n",
       "      <td>@MelBeer93 Ahhh I love this!</td>\n",
       "      <td>0.0</td>\n",
       "    </tr>\n",
       "    <tr>\n",
       "      <th>4</th>\n",
       "      <td>@TheKimClub https://t.co/UUx3417HcD</td>\n",
       "      <td>1.0</td>\n",
       "    </tr>\n",
       "    <tr>\n",
       "      <th>...</th>\n",
       "      <td>...</td>\n",
       "      <td>...</td>\n",
       "    </tr>\n",
       "    <tr>\n",
       "      <th>1875</th>\n",
       "      <td>in my lecture rn talking about covid</td>\n",
       "      <td>1.0</td>\n",
       "    </tr>\n",
       "    <tr>\n",
       "      <th>1876</th>\n",
       "      <td>@buzzycalz @skinnyqweeen @hearteyezshawty im i...</td>\n",
       "      <td>1.0</td>\n",
       "    </tr>\n",
       "    <tr>\n",
       "      <th>1877</th>\n",
       "      <td>@Death13__ Also this is just streams, videos a...</td>\n",
       "      <td>1.0</td>\n",
       "    </tr>\n",
       "    <tr>\n",
       "      <th>1878</th>\n",
       "      <td>@Lyssss69 Honestly I just saw these on tiktok ...</td>\n",
       "      <td>0.0</td>\n",
       "    </tr>\n",
       "    <tr>\n",
       "      <th>1879</th>\n",
       "      <td>@ariellelynn__ Seriously my favorite rn</td>\n",
       "      <td>0.0</td>\n",
       "    </tr>\n",
       "  </tbody>\n",
       "</table>\n",
       "<p>1880 rows × 2 columns</p>\n",
       "</div>"
      ],
      "text/plain": [
       "                                             Tweet Text  burnout\n",
       "0     I'm a big music person. It speaks to me in all...      1.0\n",
       "1     @JohnWHarris15 I adore you and your unlimited ...      1.0\n",
       "2     @bubblydncer I have replied to countless texts...      1.0\n",
       "3                         @MelBeer93 Ahhh I love this!       0.0\n",
       "4                   @TheKimClub https://t.co/UUx3417HcD      1.0\n",
       "...                                                 ...      ...\n",
       "1875              in my lecture rn talking about covid       1.0\n",
       "1876  @buzzycalz @skinnyqweeen @hearteyezshawty im i...      1.0\n",
       "1877  @Death13__ Also this is just streams, videos a...      1.0\n",
       "1878  @Lyssss69 Honestly I just saw these on tiktok ...      0.0\n",
       "1879            @ariellelynn__ Seriously my favorite rn      0.0\n",
       "\n",
       "[1880 rows x 2 columns]"
      ]
     },
     "execution_count": 44,
     "metadata": {},
     "output_type": "execute_result"
    }
   ],
   "source": [
    "remove_cols = [\"Unnamed: 0.1\", 'Unnamed: 0', 'Tweet Date', 'Tweet ID','tweet_source', 'tweet_retweet_count', 'tweet_favorite_count',\n",
    "       'word_count', 'char_count', 'word_density', 'punc_count', 'sentiment',\n",
    "       'year', 'month', 'day', 'unique_word_count', 'stop_word_count',\n",
    "       'url_count', 'mean_word_length', 'hashtag_count', 'mention_count' ]\n",
    "df = df.drop(remove_cols,axis=1)\n",
    "df"
   ]
  },
  {
   "cell_type": "code",
   "execution_count": 45,
   "metadata": {},
   "outputs": [
    {
     "data": {
      "text/plain": [
       "1.0    1214\n",
       "0.0     664\n",
       "Name: burnout, dtype: int64"
      ]
     },
     "execution_count": 45,
     "metadata": {},
     "output_type": "execute_result"
    }
   ],
   "source": [
    "df[\"burnout\"].value_counts()"
   ]
  },
  {
   "cell_type": "code",
   "execution_count": 46,
   "metadata": {},
   "outputs": [
    {
     "data": {
      "text/plain": [
       "0       0.0000\n",
       "1       0.7430\n",
       "2       0.4959\n",
       "3       0.6696\n",
       "4       0.0000\n",
       "         ...  \n",
       "1875    0.0000\n",
       "1876   -0.3270\n",
       "1877    0.0000\n",
       "1878    0.4588\n",
       "1879    0.3182\n",
       "Name: sentiment, Length: 1880, dtype: float64"
      ]
     },
     "execution_count": 46,
     "metadata": {},
     "output_type": "execute_result"
    }
   ],
   "source": [
    "from nltk.sentiment import SentimentIntensityAnalyzer\n",
    "sia = SentimentIntensityAnalyzer()\n",
    "df['sentiment'] = df['Tweet Text'].apply(\n",
    "    lambda x: sia.polarity_scores(x)['compound'])\n",
    "df['sentiment']\n"
   ]
  },
  {
   "cell_type": "code",
   "execution_count": 47,
   "metadata": {},
   "outputs": [
    {
     "data": {
      "text/html": [
       "<div>\n",
       "<style scoped>\n",
       "    .dataframe tbody tr th:only-of-type {\n",
       "        vertical-align: middle;\n",
       "    }\n",
       "\n",
       "    .dataframe tbody tr th {\n",
       "        vertical-align: top;\n",
       "    }\n",
       "\n",
       "    .dataframe thead th {\n",
       "        text-align: right;\n",
       "    }\n",
       "</style>\n",
       "<table border=\"1\" class=\"dataframe\">\n",
       "  <thead>\n",
       "    <tr style=\"text-align: right;\">\n",
       "      <th></th>\n",
       "      <th>Tweet Text</th>\n",
       "      <th>burnout</th>\n",
       "      <th>sentiment</th>\n",
       "    </tr>\n",
       "  </thead>\n",
       "  <tbody>\n",
       "    <tr>\n",
       "      <th>0</th>\n",
       "      <td>I'm a big music person. It speaks to me in all...</td>\n",
       "      <td>1.0</td>\n",
       "      <td>0.0000</td>\n",
       "    </tr>\n",
       "    <tr>\n",
       "      <th>1</th>\n",
       "      <td>@JohnWHarris15 I adore you and your unlimited ...</td>\n",
       "      <td>1.0</td>\n",
       "      <td>0.7430</td>\n",
       "    </tr>\n",
       "    <tr>\n",
       "      <th>2</th>\n",
       "      <td>@bubblydncer I have replied to countless texts...</td>\n",
       "      <td>1.0</td>\n",
       "      <td>0.4959</td>\n",
       "    </tr>\n",
       "    <tr>\n",
       "      <th>3</th>\n",
       "      <td>@MelBeer93 Ahhh I love this!</td>\n",
       "      <td>0.0</td>\n",
       "      <td>0.6696</td>\n",
       "    </tr>\n",
       "    <tr>\n",
       "      <th>4</th>\n",
       "      <td>@TheKimClub https://t.co/UUx3417HcD</td>\n",
       "      <td>1.0</td>\n",
       "      <td>0.0000</td>\n",
       "    </tr>\n",
       "    <tr>\n",
       "      <th>...</th>\n",
       "      <td>...</td>\n",
       "      <td>...</td>\n",
       "      <td>...</td>\n",
       "    </tr>\n",
       "    <tr>\n",
       "      <th>1875</th>\n",
       "      <td>in my lecture rn talking about covid</td>\n",
       "      <td>1.0</td>\n",
       "      <td>0.0000</td>\n",
       "    </tr>\n",
       "    <tr>\n",
       "      <th>1876</th>\n",
       "      <td>@buzzycalz @skinnyqweeen @hearteyezshawty im i...</td>\n",
       "      <td>1.0</td>\n",
       "      <td>-0.3270</td>\n",
       "    </tr>\n",
       "    <tr>\n",
       "      <th>1877</th>\n",
       "      <td>@Death13__ Also this is just streams, videos a...</td>\n",
       "      <td>1.0</td>\n",
       "      <td>0.0000</td>\n",
       "    </tr>\n",
       "    <tr>\n",
       "      <th>1878</th>\n",
       "      <td>@Lyssss69 Honestly I just saw these on tiktok ...</td>\n",
       "      <td>0.0</td>\n",
       "      <td>0.4588</td>\n",
       "    </tr>\n",
       "    <tr>\n",
       "      <th>1879</th>\n",
       "      <td>@ariellelynn__ Seriously my favorite rn</td>\n",
       "      <td>0.0</td>\n",
       "      <td>0.3182</td>\n",
       "    </tr>\n",
       "  </tbody>\n",
       "</table>\n",
       "<p>1880 rows × 3 columns</p>\n",
       "</div>"
      ],
      "text/plain": [
       "                                             Tweet Text  burnout  sentiment\n",
       "0     I'm a big music person. It speaks to me in all...      1.0     0.0000\n",
       "1     @JohnWHarris15 I adore you and your unlimited ...      1.0     0.7430\n",
       "2     @bubblydncer I have replied to countless texts...      1.0     0.4959\n",
       "3                         @MelBeer93 Ahhh I love this!       0.0     0.6696\n",
       "4                   @TheKimClub https://t.co/UUx3417HcD      1.0     0.0000\n",
       "...                                                 ...      ...        ...\n",
       "1875              in my lecture rn talking about covid       1.0     0.0000\n",
       "1876  @buzzycalz @skinnyqweeen @hearteyezshawty im i...      1.0    -0.3270\n",
       "1877  @Death13__ Also this is just streams, videos a...      1.0     0.0000\n",
       "1878  @Lyssss69 Honestly I just saw these on tiktok ...      0.0     0.4588\n",
       "1879            @ariellelynn__ Seriously my favorite rn      0.0     0.3182\n",
       "\n",
       "[1880 rows x 3 columns]"
      ]
     },
     "execution_count": 47,
     "metadata": {},
     "output_type": "execute_result"
    }
   ],
   "source": [
    "df"
   ]
  },
  {
   "cell_type": "code",
   "execution_count": 48,
   "metadata": {},
   "outputs": [
    {
     "data": {
      "text/plain": [
       "Tweet Text    False\n",
       "burnout        True\n",
       "sentiment     False\n",
       "dtype: bool"
      ]
     },
     "execution_count": 48,
     "metadata": {},
     "output_type": "execute_result"
    }
   ],
   "source": [
    "df.isnull().any()"
   ]
  },
  {
   "cell_type": "code",
   "execution_count": 49,
   "metadata": {},
   "outputs": [
    {
     "data": {
      "text/plain": [
       "False    1878\n",
       "True        2\n",
       "Name: burnout, dtype: int64"
      ]
     },
     "execution_count": 49,
     "metadata": {},
     "output_type": "execute_result"
    }
   ],
   "source": [
    "df[\"burnout\"].isnull().value_counts()"
   ]
  },
  {
   "cell_type": "code",
   "execution_count": 50,
   "metadata": {},
   "outputs": [],
   "source": [
    "df.dropna(inplace=True)"
   ]
  },
  {
   "cell_type": "code",
   "execution_count": 51,
   "metadata": {},
   "outputs": [
    {
     "data": {
      "text/html": [
       "<div>\n",
       "<style scoped>\n",
       "    .dataframe tbody tr th:only-of-type {\n",
       "        vertical-align: middle;\n",
       "    }\n",
       "\n",
       "    .dataframe tbody tr th {\n",
       "        vertical-align: top;\n",
       "    }\n",
       "\n",
       "    .dataframe thead th {\n",
       "        text-align: right;\n",
       "    }\n",
       "</style>\n",
       "<table border=\"1\" class=\"dataframe\">\n",
       "  <thead>\n",
       "    <tr style=\"text-align: right;\">\n",
       "      <th></th>\n",
       "      <th>Tweet Text</th>\n",
       "      <th>burnout</th>\n",
       "      <th>sentiment</th>\n",
       "    </tr>\n",
       "  </thead>\n",
       "  <tbody>\n",
       "    <tr>\n",
       "      <th>0</th>\n",
       "      <td>I'm a big music person. It speaks to me in all...</td>\n",
       "      <td>1.0</td>\n",
       "      <td>0.0000</td>\n",
       "    </tr>\n",
       "    <tr>\n",
       "      <th>1</th>\n",
       "      <td>@JohnWHarris15 I adore you and your unlimited ...</td>\n",
       "      <td>1.0</td>\n",
       "      <td>0.7430</td>\n",
       "    </tr>\n",
       "    <tr>\n",
       "      <th>2</th>\n",
       "      <td>@bubblydncer I have replied to countless texts...</td>\n",
       "      <td>1.0</td>\n",
       "      <td>0.4959</td>\n",
       "    </tr>\n",
       "    <tr>\n",
       "      <th>3</th>\n",
       "      <td>@MelBeer93 Ahhh I love this!</td>\n",
       "      <td>0.0</td>\n",
       "      <td>0.6696</td>\n",
       "    </tr>\n",
       "    <tr>\n",
       "      <th>4</th>\n",
       "      <td>@TheKimClub https://t.co/UUx3417HcD</td>\n",
       "      <td>1.0</td>\n",
       "      <td>0.0000</td>\n",
       "    </tr>\n",
       "    <tr>\n",
       "      <th>...</th>\n",
       "      <td>...</td>\n",
       "      <td>...</td>\n",
       "      <td>...</td>\n",
       "    </tr>\n",
       "    <tr>\n",
       "      <th>1875</th>\n",
       "      <td>in my lecture rn talking about covid</td>\n",
       "      <td>1.0</td>\n",
       "      <td>0.0000</td>\n",
       "    </tr>\n",
       "    <tr>\n",
       "      <th>1876</th>\n",
       "      <td>@buzzycalz @skinnyqweeen @hearteyezshawty im i...</td>\n",
       "      <td>1.0</td>\n",
       "      <td>-0.3270</td>\n",
       "    </tr>\n",
       "    <tr>\n",
       "      <th>1877</th>\n",
       "      <td>@Death13__ Also this is just streams, videos a...</td>\n",
       "      <td>1.0</td>\n",
       "      <td>0.0000</td>\n",
       "    </tr>\n",
       "    <tr>\n",
       "      <th>1878</th>\n",
       "      <td>@Lyssss69 Honestly I just saw these on tiktok ...</td>\n",
       "      <td>0.0</td>\n",
       "      <td>0.4588</td>\n",
       "    </tr>\n",
       "    <tr>\n",
       "      <th>1879</th>\n",
       "      <td>@ariellelynn__ Seriously my favorite rn</td>\n",
       "      <td>0.0</td>\n",
       "      <td>0.3182</td>\n",
       "    </tr>\n",
       "  </tbody>\n",
       "</table>\n",
       "<p>1878 rows × 3 columns</p>\n",
       "</div>"
      ],
      "text/plain": [
       "                                             Tweet Text  burnout  sentiment\n",
       "0     I'm a big music person. It speaks to me in all...      1.0     0.0000\n",
       "1     @JohnWHarris15 I adore you and your unlimited ...      1.0     0.7430\n",
       "2     @bubblydncer I have replied to countless texts...      1.0     0.4959\n",
       "3                         @MelBeer93 Ahhh I love this!       0.0     0.6696\n",
       "4                   @TheKimClub https://t.co/UUx3417HcD      1.0     0.0000\n",
       "...                                                 ...      ...        ...\n",
       "1875              in my lecture rn talking about covid       1.0     0.0000\n",
       "1876  @buzzycalz @skinnyqweeen @hearteyezshawty im i...      1.0    -0.3270\n",
       "1877  @Death13__ Also this is just streams, videos a...      1.0     0.0000\n",
       "1878  @Lyssss69 Honestly I just saw these on tiktok ...      0.0     0.4588\n",
       "1879            @ariellelynn__ Seriously my favorite rn      0.0     0.3182\n",
       "\n",
       "[1878 rows x 3 columns]"
      ]
     },
     "execution_count": 51,
     "metadata": {},
     "output_type": "execute_result"
    }
   ],
   "source": [
    "df"
   ]
  },
  {
   "cell_type": "code",
   "execution_count": 52,
   "metadata": {},
   "outputs": [
    {
     "name": "stderr",
     "output_type": "stream",
     "text": [
      "[nltk_data] Downloading package stopwords to\n",
      "[nltk_data]     C:\\Users\\mailm\\AppData\\Roaming\\nltk_data...\n",
      "[nltk_data]   Package stopwords is already up-to-date!\n",
      "[nltk_data] Downloading package punkt to\n",
      "[nltk_data]     C:\\Users\\mailm\\AppData\\Roaming\\nltk_data...\n",
      "[nltk_data]   Package punkt is already up-to-date!\n",
      "[nltk_data] Downloading package wordnet to\n",
      "[nltk_data]     C:\\Users\\mailm\\AppData\\Roaming\\nltk_data...\n",
      "[nltk_data]   Package wordnet is already up-to-date!\n"
     ]
    },
    {
     "data": {
      "text/plain": [
       "True"
      ]
     },
     "execution_count": 52,
     "metadata": {},
     "output_type": "execute_result"
    }
   ],
   "source": [
    "nltk.download('stopwords')\n",
    "nltk.download('punkt')\n",
    "nltk.download('wordnet')\n"
   ]
  },
  {
   "cell_type": "code",
   "execution_count": 53,
   "metadata": {},
   "outputs": [],
   "source": [
    "stop_words = set(stopwords.words(\"english\"))\n",
    "lemmatizer = WordNetLemmatizer()"
   ]
  },
  {
   "cell_type": "code",
   "execution_count": 54,
   "metadata": {},
   "outputs": [],
   "source": [
    "def pre_process_tweets(tweet):\n",
    "    tweet = re.sub(r'@\\w+', '', tweet) # remove mentions\n",
    "    tweet = re.sub(r'https?://\\S+', '', tweet) # remove URLs\n",
    "    tweet = re.sub(r'[^a-zA-Z\\s]', '', tweet) # remove punctuation\n",
    "    token = word_tokenize(tweet)    \n",
    "    sw_removed_words = [i for i in token if not i.lower() in stop_words] # removing stop words\n",
    "    words = [lemmatizer.lemmatize(word) for word in sw_removed_words] \n",
    "    preprocessed_tweet = ' '.join(words)\n",
    "    return preprocessed_tweet"
   ]
  },
  {
   "cell_type": "code",
   "execution_count": 55,
   "metadata": {},
   "outputs": [
    {
     "data": {
      "text/plain": [
       "'adore unlimited support John'"
      ]
     },
     "execution_count": 55,
     "metadata": {},
     "output_type": "execute_result"
    }
   ],
   "source": [
    "pre_process_tweets(df[\"Tweet Text\"][1])\n"
   ]
  },
  {
   "cell_type": "code",
   "execution_count": 56,
   "metadata": {},
   "outputs": [
    {
     "data": {
      "text/plain": [
       "0       Im big music person speaks way day dying patie...\n",
       "1                            adore unlimited support John\n",
       "2       replied countless text saying Im ok agree help...\n",
       "3                                               Ahhh love\n",
       "4                                                        \n",
       "                              ...                        \n",
       "1875                             lecture rn talking covid\n",
       "1876    im biology class rn bestie r u empty apartment...\n",
       "1877          Also stream video another story vids rn tho\n",
       "1878                    Honestly saw tiktok rn got ta get\n",
       "1879                                Seriously favorite rn\n",
       "Name: preprocessed_tweet, Length: 1878, dtype: object"
      ]
     },
     "execution_count": 56,
     "metadata": {},
     "output_type": "execute_result"
    }
   ],
   "source": [
    "df[\"preprocessed_tweet\"] = df[\"Tweet Text\"].apply(pre_process_tweets)\n",
    "df[\"preprocessed_tweet\"]"
   ]
  },
  {
   "cell_type": "code",
   "execution_count": 57,
   "metadata": {},
   "outputs": [
    {
     "data": {
      "text/html": [
       "<div>\n",
       "<style scoped>\n",
       "    .dataframe tbody tr th:only-of-type {\n",
       "        vertical-align: middle;\n",
       "    }\n",
       "\n",
       "    .dataframe tbody tr th {\n",
       "        vertical-align: top;\n",
       "    }\n",
       "\n",
       "    .dataframe thead th {\n",
       "        text-align: right;\n",
       "    }\n",
       "</style>\n",
       "<table border=\"1\" class=\"dataframe\">\n",
       "  <thead>\n",
       "    <tr style=\"text-align: right;\">\n",
       "      <th></th>\n",
       "      <th>Tweet Text</th>\n",
       "      <th>burnout</th>\n",
       "      <th>sentiment</th>\n",
       "      <th>preprocessed_tweet</th>\n",
       "    </tr>\n",
       "  </thead>\n",
       "  <tbody>\n",
       "    <tr>\n",
       "      <th>0</th>\n",
       "      <td>I'm a big music person. It speaks to me in all...</td>\n",
       "      <td>1.0</td>\n",
       "      <td>0.0000</td>\n",
       "      <td>Im big music person speaks way day dying patie...</td>\n",
       "    </tr>\n",
       "    <tr>\n",
       "      <th>1</th>\n",
       "      <td>@JohnWHarris15 I adore you and your unlimited ...</td>\n",
       "      <td>1.0</td>\n",
       "      <td>0.7430</td>\n",
       "      <td>adore unlimited support John</td>\n",
       "    </tr>\n",
       "    <tr>\n",
       "      <th>2</th>\n",
       "      <td>@bubblydncer I have replied to countless texts...</td>\n",
       "      <td>1.0</td>\n",
       "      <td>0.4959</td>\n",
       "      <td>replied countless text saying Im ok agree help...</td>\n",
       "    </tr>\n",
       "    <tr>\n",
       "      <th>3</th>\n",
       "      <td>@MelBeer93 Ahhh I love this!</td>\n",
       "      <td>0.0</td>\n",
       "      <td>0.6696</td>\n",
       "      <td>Ahhh love</td>\n",
       "    </tr>\n",
       "    <tr>\n",
       "      <th>4</th>\n",
       "      <td>@TheKimClub https://t.co/UUx3417HcD</td>\n",
       "      <td>1.0</td>\n",
       "      <td>0.0000</td>\n",
       "      <td></td>\n",
       "    </tr>\n",
       "    <tr>\n",
       "      <th>...</th>\n",
       "      <td>...</td>\n",
       "      <td>...</td>\n",
       "      <td>...</td>\n",
       "      <td>...</td>\n",
       "    </tr>\n",
       "    <tr>\n",
       "      <th>1875</th>\n",
       "      <td>in my lecture rn talking about covid</td>\n",
       "      <td>1.0</td>\n",
       "      <td>0.0000</td>\n",
       "      <td>lecture rn talking covid</td>\n",
       "    </tr>\n",
       "    <tr>\n",
       "      <th>1876</th>\n",
       "      <td>@buzzycalz @skinnyqweeen @hearteyezshawty im i...</td>\n",
       "      <td>1.0</td>\n",
       "      <td>-0.3270</td>\n",
       "      <td>im biology class rn bestie r u empty apartment...</td>\n",
       "    </tr>\n",
       "    <tr>\n",
       "      <th>1877</th>\n",
       "      <td>@Death13__ Also this is just streams, videos a...</td>\n",
       "      <td>1.0</td>\n",
       "      <td>0.0000</td>\n",
       "      <td>Also stream video another story vids rn tho</td>\n",
       "    </tr>\n",
       "    <tr>\n",
       "      <th>1878</th>\n",
       "      <td>@Lyssss69 Honestly I just saw these on tiktok ...</td>\n",
       "      <td>0.0</td>\n",
       "      <td>0.4588</td>\n",
       "      <td>Honestly saw tiktok rn got ta get</td>\n",
       "    </tr>\n",
       "    <tr>\n",
       "      <th>1879</th>\n",
       "      <td>@ariellelynn__ Seriously my favorite rn</td>\n",
       "      <td>0.0</td>\n",
       "      <td>0.3182</td>\n",
       "      <td>Seriously favorite rn</td>\n",
       "    </tr>\n",
       "  </tbody>\n",
       "</table>\n",
       "<p>1878 rows × 4 columns</p>\n",
       "</div>"
      ],
      "text/plain": [
       "                                             Tweet Text  burnout  sentiment  \\\n",
       "0     I'm a big music person. It speaks to me in all...      1.0     0.0000   \n",
       "1     @JohnWHarris15 I adore you and your unlimited ...      1.0     0.7430   \n",
       "2     @bubblydncer I have replied to countless texts...      1.0     0.4959   \n",
       "3                         @MelBeer93 Ahhh I love this!       0.0     0.6696   \n",
       "4                   @TheKimClub https://t.co/UUx3417HcD      1.0     0.0000   \n",
       "...                                                 ...      ...        ...   \n",
       "1875              in my lecture rn talking about covid       1.0     0.0000   \n",
       "1876  @buzzycalz @skinnyqweeen @hearteyezshawty im i...      1.0    -0.3270   \n",
       "1877  @Death13__ Also this is just streams, videos a...      1.0     0.0000   \n",
       "1878  @Lyssss69 Honestly I just saw these on tiktok ...      0.0     0.4588   \n",
       "1879            @ariellelynn__ Seriously my favorite rn      0.0     0.3182   \n",
       "\n",
       "                                     preprocessed_tweet  \n",
       "0     Im big music person speaks way day dying patie...  \n",
       "1                          adore unlimited support John  \n",
       "2     replied countless text saying Im ok agree help...  \n",
       "3                                             Ahhh love  \n",
       "4                                                        \n",
       "...                                                 ...  \n",
       "1875                           lecture rn talking covid  \n",
       "1876  im biology class rn bestie r u empty apartment...  \n",
       "1877        Also stream video another story vids rn tho  \n",
       "1878                  Honestly saw tiktok rn got ta get  \n",
       "1879                              Seriously favorite rn  \n",
       "\n",
       "[1878 rows x 4 columns]"
      ]
     },
     "execution_count": 57,
     "metadata": {},
     "output_type": "execute_result"
    }
   ],
   "source": [
    "df"
   ]
  },
  {
   "cell_type": "code",
   "execution_count": 58,
   "metadata": {},
   "outputs": [
    {
     "data": {
      "text/html": [
       "<div>\n",
       "<style scoped>\n",
       "    .dataframe tbody tr th:only-of-type {\n",
       "        vertical-align: middle;\n",
       "    }\n",
       "\n",
       "    .dataframe tbody tr th {\n",
       "        vertical-align: top;\n",
       "    }\n",
       "\n",
       "    .dataframe thead th {\n",
       "        text-align: right;\n",
       "    }\n",
       "</style>\n",
       "<table border=\"1\" class=\"dataframe\">\n",
       "  <thead>\n",
       "    <tr style=\"text-align: right;\">\n",
       "      <th></th>\n",
       "      <th>Tweet Text</th>\n",
       "      <th>burnout</th>\n",
       "      <th>sentiment</th>\n",
       "      <th>preprocessed_tweet</th>\n",
       "    </tr>\n",
       "  </thead>\n",
       "  <tbody>\n",
       "    <tr>\n",
       "      <th>0</th>\n",
       "      <td>I'm a big music person. It speaks to me in all...</td>\n",
       "      <td>1.0</td>\n",
       "      <td>0.0000</td>\n",
       "      <td>Im big music person speaks way day dying patie...</td>\n",
       "    </tr>\n",
       "    <tr>\n",
       "      <th>1</th>\n",
       "      <td>@JohnWHarris15 I adore you and your unlimited ...</td>\n",
       "      <td>1.0</td>\n",
       "      <td>0.7430</td>\n",
       "      <td>adore unlimited support John</td>\n",
       "    </tr>\n",
       "    <tr>\n",
       "      <th>2</th>\n",
       "      <td>@bubblydncer I have replied to countless texts...</td>\n",
       "      <td>1.0</td>\n",
       "      <td>0.4959</td>\n",
       "      <td>replied countless text saying Im ok agree help...</td>\n",
       "    </tr>\n",
       "    <tr>\n",
       "      <th>3</th>\n",
       "      <td>@MelBeer93 Ahhh I love this!</td>\n",
       "      <td>0.0</td>\n",
       "      <td>0.6696</td>\n",
       "      <td>Ahhh love</td>\n",
       "    </tr>\n",
       "    <tr>\n",
       "      <th>4</th>\n",
       "      <td>@TheKimClub https://t.co/UUx3417HcD</td>\n",
       "      <td>1.0</td>\n",
       "      <td>0.0000</td>\n",
       "      <td></td>\n",
       "    </tr>\n",
       "    <tr>\n",
       "      <th>...</th>\n",
       "      <td>...</td>\n",
       "      <td>...</td>\n",
       "      <td>...</td>\n",
       "      <td>...</td>\n",
       "    </tr>\n",
       "    <tr>\n",
       "      <th>1875</th>\n",
       "      <td>in my lecture rn talking about covid</td>\n",
       "      <td>1.0</td>\n",
       "      <td>0.0000</td>\n",
       "      <td>lecture rn talking covid</td>\n",
       "    </tr>\n",
       "    <tr>\n",
       "      <th>1876</th>\n",
       "      <td>@buzzycalz @skinnyqweeen @hearteyezshawty im i...</td>\n",
       "      <td>1.0</td>\n",
       "      <td>-0.3270</td>\n",
       "      <td>im biology class rn bestie r u empty apartment...</td>\n",
       "    </tr>\n",
       "    <tr>\n",
       "      <th>1877</th>\n",
       "      <td>@Death13__ Also this is just streams, videos a...</td>\n",
       "      <td>1.0</td>\n",
       "      <td>0.0000</td>\n",
       "      <td>Also stream video another story vids rn tho</td>\n",
       "    </tr>\n",
       "    <tr>\n",
       "      <th>1878</th>\n",
       "      <td>@Lyssss69 Honestly I just saw these on tiktok ...</td>\n",
       "      <td>0.0</td>\n",
       "      <td>0.4588</td>\n",
       "      <td>Honestly saw tiktok rn got ta get</td>\n",
       "    </tr>\n",
       "    <tr>\n",
       "      <th>1879</th>\n",
       "      <td>@ariellelynn__ Seriously my favorite rn</td>\n",
       "      <td>0.0</td>\n",
       "      <td>0.3182</td>\n",
       "      <td>Seriously favorite rn</td>\n",
       "    </tr>\n",
       "  </tbody>\n",
       "</table>\n",
       "<p>1878 rows × 4 columns</p>\n",
       "</div>"
      ],
      "text/plain": [
       "                                             Tweet Text  burnout  sentiment  \\\n",
       "0     I'm a big music person. It speaks to me in all...      1.0     0.0000   \n",
       "1     @JohnWHarris15 I adore you and your unlimited ...      1.0     0.7430   \n",
       "2     @bubblydncer I have replied to countless texts...      1.0     0.4959   \n",
       "3                         @MelBeer93 Ahhh I love this!       0.0     0.6696   \n",
       "4                   @TheKimClub https://t.co/UUx3417HcD      1.0     0.0000   \n",
       "...                                                 ...      ...        ...   \n",
       "1875              in my lecture rn talking about covid       1.0     0.0000   \n",
       "1876  @buzzycalz @skinnyqweeen @hearteyezshawty im i...      1.0    -0.3270   \n",
       "1877  @Death13__ Also this is just streams, videos a...      1.0     0.0000   \n",
       "1878  @Lyssss69 Honestly I just saw these on tiktok ...      0.0     0.4588   \n",
       "1879            @ariellelynn__ Seriously my favorite rn      0.0     0.3182   \n",
       "\n",
       "                                     preprocessed_tweet  \n",
       "0     Im big music person speaks way day dying patie...  \n",
       "1                          adore unlimited support John  \n",
       "2     replied countless text saying Im ok agree help...  \n",
       "3                                             Ahhh love  \n",
       "4                                                        \n",
       "...                                                 ...  \n",
       "1875                           lecture rn talking covid  \n",
       "1876  im biology class rn bestie r u empty apartment...  \n",
       "1877        Also stream video another story vids rn tho  \n",
       "1878                  Honestly saw tiktok rn got ta get  \n",
       "1879                              Seriously favorite rn  \n",
       "\n",
       "[1878 rows x 4 columns]"
      ]
     },
     "execution_count": 58,
     "metadata": {},
     "output_type": "execute_result"
    }
   ],
   "source": [
    "df"
   ]
  },
  {
   "cell_type": "code",
   "execution_count": 59,
   "metadata": {},
   "outputs": [
    {
     "data": {
      "text/html": [
       "<div>\n",
       "<style scoped>\n",
       "    .dataframe tbody tr th:only-of-type {\n",
       "        vertical-align: middle;\n",
       "    }\n",
       "\n",
       "    .dataframe tbody tr th {\n",
       "        vertical-align: top;\n",
       "    }\n",
       "\n",
       "    .dataframe thead th {\n",
       "        text-align: right;\n",
       "    }\n",
       "</style>\n",
       "<table border=\"1\" class=\"dataframe\">\n",
       "  <thead>\n",
       "    <tr style=\"text-align: right;\">\n",
       "      <th></th>\n",
       "      <th>burnout</th>\n",
       "      <th>sentiment</th>\n",
       "      <th>preprocessed_tweet</th>\n",
       "    </tr>\n",
       "  </thead>\n",
       "  <tbody>\n",
       "    <tr>\n",
       "      <th>0</th>\n",
       "      <td>1.0</td>\n",
       "      <td>0.0000</td>\n",
       "      <td>Im big music person speaks way day dying patie...</td>\n",
       "    </tr>\n",
       "    <tr>\n",
       "      <th>1</th>\n",
       "      <td>1.0</td>\n",
       "      <td>0.7430</td>\n",
       "      <td>adore unlimited support John</td>\n",
       "    </tr>\n",
       "    <tr>\n",
       "      <th>2</th>\n",
       "      <td>1.0</td>\n",
       "      <td>0.4959</td>\n",
       "      <td>replied countless text saying Im ok agree help...</td>\n",
       "    </tr>\n",
       "    <tr>\n",
       "      <th>3</th>\n",
       "      <td>0.0</td>\n",
       "      <td>0.6696</td>\n",
       "      <td>Ahhh love</td>\n",
       "    </tr>\n",
       "    <tr>\n",
       "      <th>4</th>\n",
       "      <td>1.0</td>\n",
       "      <td>0.0000</td>\n",
       "      <td></td>\n",
       "    </tr>\n",
       "    <tr>\n",
       "      <th>...</th>\n",
       "      <td>...</td>\n",
       "      <td>...</td>\n",
       "      <td>...</td>\n",
       "    </tr>\n",
       "    <tr>\n",
       "      <th>1875</th>\n",
       "      <td>1.0</td>\n",
       "      <td>0.0000</td>\n",
       "      <td>lecture rn talking covid</td>\n",
       "    </tr>\n",
       "    <tr>\n",
       "      <th>1876</th>\n",
       "      <td>1.0</td>\n",
       "      <td>-0.3270</td>\n",
       "      <td>im biology class rn bestie r u empty apartment...</td>\n",
       "    </tr>\n",
       "    <tr>\n",
       "      <th>1877</th>\n",
       "      <td>1.0</td>\n",
       "      <td>0.0000</td>\n",
       "      <td>Also stream video another story vids rn tho</td>\n",
       "    </tr>\n",
       "    <tr>\n",
       "      <th>1878</th>\n",
       "      <td>0.0</td>\n",
       "      <td>0.4588</td>\n",
       "      <td>Honestly saw tiktok rn got ta get</td>\n",
       "    </tr>\n",
       "    <tr>\n",
       "      <th>1879</th>\n",
       "      <td>0.0</td>\n",
       "      <td>0.3182</td>\n",
       "      <td>Seriously favorite rn</td>\n",
       "    </tr>\n",
       "  </tbody>\n",
       "</table>\n",
       "<p>1878 rows × 3 columns</p>\n",
       "</div>"
      ],
      "text/plain": [
       "      burnout  sentiment                                 preprocessed_tweet\n",
       "0         1.0     0.0000  Im big music person speaks way day dying patie...\n",
       "1         1.0     0.7430                       adore unlimited support John\n",
       "2         1.0     0.4959  replied countless text saying Im ok agree help...\n",
       "3         0.0     0.6696                                          Ahhh love\n",
       "4         1.0     0.0000                                                   \n",
       "...       ...        ...                                                ...\n",
       "1875      1.0     0.0000                           lecture rn talking covid\n",
       "1876      1.0    -0.3270  im biology class rn bestie r u empty apartment...\n",
       "1877      1.0     0.0000        Also stream video another story vids rn tho\n",
       "1878      0.0     0.4588                  Honestly saw tiktok rn got ta get\n",
       "1879      0.0     0.3182                              Seriously favorite rn\n",
       "\n",
       "[1878 rows x 3 columns]"
      ]
     },
     "execution_count": 59,
     "metadata": {},
     "output_type": "execute_result"
    }
   ],
   "source": [
    "df = df.drop(\"Tweet Text\",axis=1)\n",
    "df"
   ]
  },
  {
   "cell_type": "code",
   "execution_count": 60,
   "metadata": {},
   "outputs": [
    {
     "data": {
      "text/plain": [
       "burnout               float64\n",
       "sentiment             float64\n",
       "preprocessed_tweet     object\n",
       "dtype: object"
      ]
     },
     "execution_count": 60,
     "metadata": {},
     "output_type": "execute_result"
    }
   ],
   "source": [
    "df.dtypes"
   ]
  },
  {
   "cell_type": "code",
   "execution_count": 61,
   "metadata": {},
   "outputs": [
    {
     "data": {
      "text/plain": [
       "array([[0.0,\n",
       "        'Im big music person speaks way day dying patient made note Sta'],\n",
       "       [0.743, 'adore unlimited support John'],\n",
       "       [0.4959, 'replied countless text saying Im ok agree help admit'],\n",
       "       ...,\n",
       "       [0.0, 'Also stream video another story vids rn tho'],\n",
       "       [0.4588, 'Honestly saw tiktok rn got ta get'],\n",
       "       [0.3182, 'Seriously favorite rn']], dtype=object)"
      ]
     },
     "execution_count": 61,
     "metadata": {},
     "output_type": "execute_result"
    }
   ],
   "source": [
    "x = np.column_stack((df['sentiment'].values, df['preprocessed_tweet'].values))\n",
    "x"
   ]
  },
  {
   "cell_type": "code",
   "execution_count": 62,
   "metadata": {},
   "outputs": [
    {
     "data": {
      "text/plain": [
       "array([1., 1., 1., ..., 1., 0., 0.])"
      ]
     },
     "execution_count": 62,
     "metadata": {},
     "output_type": "execute_result"
    }
   ],
   "source": [
    "y = df[\"burnout\"].values\n",
    "y"
   ]
  },
  {
   "cell_type": "code",
   "execution_count": 63,
   "metadata": {},
   "outputs": [],
   "source": [
    "x_train, x_test, y_train, y_test = train_test_split(x, y, test_size=0.25, random_state=42)"
   ]
  },
  {
   "cell_type": "code",
   "execution_count": 64,
   "metadata": {},
   "outputs": [
    {
     "data": {
      "text/plain": [
       "(1408, 2)"
      ]
     },
     "execution_count": 64,
     "metadata": {},
     "output_type": "execute_result"
    }
   ],
   "source": [
    "x_train.shape"
   ]
  },
  {
   "cell_type": "code",
   "execution_count": 65,
   "metadata": {},
   "outputs": [
    {
     "data": {
      "text/plain": [
       "(470, 2)"
      ]
     },
     "execution_count": 65,
     "metadata": {},
     "output_type": "execute_result"
    }
   ],
   "source": [
    "x_test.shape"
   ]
  },
  {
   "cell_type": "code",
   "execution_count": 66,
   "metadata": {},
   "outputs": [],
   "source": [
    "# Convert the preprocessed tweets into numerical representations using TF-IDF\n",
    "vectorizer = TfidfVectorizer()\n",
    "x_train_tfidf = vectorizer.fit_transform(x_train[:, 1])\n",
    "x_test_tfidf = vectorizer.transform(x_test[:, 1])"
   ]
  },
  {
   "cell_type": "code",
   "execution_count": 67,
   "metadata": {},
   "outputs": [],
   "source": [
    "# Combine the sentiment column with the preprocessed tweets\n",
    "x_train_combined = np.column_stack(\n",
    "    (x_train[:, 0].reshape(-1, 1), x_train_tfidf.toarray()))\n",
    "x_test_combined = np.column_stack(\n",
    "    (x_test[:, 0].reshape(-1, 1), x_test_tfidf.toarray()))\n"
   ]
  },
  {
   "cell_type": "code",
   "execution_count": 68,
   "metadata": {},
   "outputs": [
    {
     "data": {
      "text/plain": [
       "LogisticRegression()"
      ]
     },
     "execution_count": 68,
     "metadata": {},
     "output_type": "execute_result"
    }
   ],
   "source": [
    "logr = LogisticRegression()\n",
    "logr.fit(x_train_combined, y_train)"
   ]
  },
  {
   "cell_type": "code",
   "execution_count": 69,
   "metadata": {},
   "outputs": [],
   "source": [
    "logr_pred = logr.predict(x_test_combined)"
   ]
  },
  {
   "cell_type": "code",
   "execution_count": 70,
   "metadata": {},
   "outputs": [
    {
     "name": "stdout",
     "output_type": "stream",
     "text": [
      "Accuracy: 0.8191489361702128\n",
      "F1 Score: 0.8733233979135618\n"
     ]
    }
   ],
   "source": [
    "# Evaluate the performance of the model using accuracy and f1 score\n",
    "accuracy = accuracy_score(y_test, logr_pred)\n",
    "f1 = f1_score(y_test, logr_pred)\n",
    "\n",
    "print(\"Accuracy:\", accuracy)\n",
    "print(\"F1 Score:\", f1)\n"
   ]
  },
  {
   "cell_type": "code",
   "execution_count": 71,
   "metadata": {},
   "outputs": [
    {
     "data": {
      "text/plain": [
       "SVC()"
      ]
     },
     "execution_count": 71,
     "metadata": {},
     "output_type": "execute_result"
    }
   ],
   "source": [
    "svc_clf = SVC()\n",
    "svc_clf.fit(x_train_combined, y_train)"
   ]
  },
  {
   "cell_type": "code",
   "execution_count": 72,
   "metadata": {},
   "outputs": [],
   "source": [
    "svc_pred = svc_clf.predict(x_test_combined)"
   ]
  },
  {
   "cell_type": "code",
   "execution_count": 73,
   "metadata": {},
   "outputs": [
    {
     "name": "stdout",
     "output_type": "stream",
     "text": [
      "Accuracy: 0.8191489361702128\n",
      "F1 Score: 0.8665667166416792\n"
     ]
    }
   ],
   "source": [
    "ccuracy = accuracy_score(y_test, svc_pred)\n",
    "f1 = f1_score(y_test, svc_pred)\n",
    "\n",
    "print(\"Accuracy:\", accuracy)\n",
    "print(\"F1 Score:\", f1)"
   ]
  },
  {
   "cell_type": "code",
   "execution_count": 82,
   "metadata": {},
   "outputs": [
    {
     "data": {
      "text/html": [
       "<div>\n",
       "<style scoped>\n",
       "    .dataframe tbody tr th:only-of-type {\n",
       "        vertical-align: middle;\n",
       "    }\n",
       "\n",
       "    .dataframe tbody tr th {\n",
       "        vertical-align: top;\n",
       "    }\n",
       "\n",
       "    .dataframe thead th {\n",
       "        text-align: right;\n",
       "    }\n",
       "</style>\n",
       "<table border=\"1\" class=\"dataframe\">\n",
       "  <thead>\n",
       "    <tr style=\"text-align: right;\">\n",
       "      <th></th>\n",
       "      <th>burnout</th>\n",
       "      <th>sentiment</th>\n",
       "      <th>preprocessed_tweet</th>\n",
       "    </tr>\n",
       "  </thead>\n",
       "  <tbody>\n",
       "    <tr>\n",
       "      <th>0</th>\n",
       "      <td>1.0</td>\n",
       "      <td>0.0000</td>\n",
       "      <td>Im big music person speaks way day dying patie...</td>\n",
       "    </tr>\n",
       "    <tr>\n",
       "      <th>1</th>\n",
       "      <td>1.0</td>\n",
       "      <td>0.7430</td>\n",
       "      <td>adore unlimited support John</td>\n",
       "    </tr>\n",
       "    <tr>\n",
       "      <th>2</th>\n",
       "      <td>1.0</td>\n",
       "      <td>0.4959</td>\n",
       "      <td>replied countless text saying Im ok agree help...</td>\n",
       "    </tr>\n",
       "    <tr>\n",
       "      <th>3</th>\n",
       "      <td>0.0</td>\n",
       "      <td>0.6696</td>\n",
       "      <td>Ahhh love</td>\n",
       "    </tr>\n",
       "    <tr>\n",
       "      <th>4</th>\n",
       "      <td>1.0</td>\n",
       "      <td>0.0000</td>\n",
       "      <td></td>\n",
       "    </tr>\n",
       "    <tr>\n",
       "      <th>...</th>\n",
       "      <td>...</td>\n",
       "      <td>...</td>\n",
       "      <td>...</td>\n",
       "    </tr>\n",
       "    <tr>\n",
       "      <th>1875</th>\n",
       "      <td>1.0</td>\n",
       "      <td>0.0000</td>\n",
       "      <td>lecture rn talking covid</td>\n",
       "    </tr>\n",
       "    <tr>\n",
       "      <th>1876</th>\n",
       "      <td>1.0</td>\n",
       "      <td>-0.3270</td>\n",
       "      <td>im biology class rn bestie r u empty apartment...</td>\n",
       "    </tr>\n",
       "    <tr>\n",
       "      <th>1877</th>\n",
       "      <td>1.0</td>\n",
       "      <td>0.0000</td>\n",
       "      <td>Also stream video another story vids rn tho</td>\n",
       "    </tr>\n",
       "    <tr>\n",
       "      <th>1878</th>\n",
       "      <td>0.0</td>\n",
       "      <td>0.4588</td>\n",
       "      <td>Honestly saw tiktok rn got ta get</td>\n",
       "    </tr>\n",
       "    <tr>\n",
       "      <th>1879</th>\n",
       "      <td>0.0</td>\n",
       "      <td>0.3182</td>\n",
       "      <td>Seriously favorite rn</td>\n",
       "    </tr>\n",
       "  </tbody>\n",
       "</table>\n",
       "<p>1878 rows × 3 columns</p>\n",
       "</div>"
      ],
      "text/plain": [
       "      burnout  sentiment                                 preprocessed_tweet\n",
       "0         1.0     0.0000  Im big music person speaks way day dying patie...\n",
       "1         1.0     0.7430                       adore unlimited support John\n",
       "2         1.0     0.4959  replied countless text saying Im ok agree help...\n",
       "3         0.0     0.6696                                          Ahhh love\n",
       "4         1.0     0.0000                                                   \n",
       "...       ...        ...                                                ...\n",
       "1875      1.0     0.0000                           lecture rn talking covid\n",
       "1876      1.0    -0.3270  im biology class rn bestie r u empty apartment...\n",
       "1877      1.0     0.0000        Also stream video another story vids rn tho\n",
       "1878      0.0     0.4588                  Honestly saw tiktok rn got ta get\n",
       "1879      0.0     0.3182                              Seriously favorite rn\n",
       "\n",
       "[1878 rows x 3 columns]"
      ]
     },
     "execution_count": 82,
     "metadata": {},
     "output_type": "execute_result"
    }
   ],
   "source": [
    "df"
   ]
  },
  {
   "cell_type": "code",
   "execution_count": 87,
   "metadata": {},
   "outputs": [],
   "source": [
    "comment_words = \"\"\n",
    "for i in df.index:\n",
    "    if df[\"burnout\"][i]==1.0:\n",
    "        val = df[\"preprocessed_tweet\"][i]\n",
    "        val= str(val)\n",
    "        tokens = val.split()\n",
    "        comment_words += \" \".join(tokens)+\" \"\n",
    "    else:\n",
    "        continue"
   ]
  },
  {
   "cell_type": "code",
   "execution_count": 88,
   "metadata": {},
   "outputs": [
    {
     "data": {
      "image/png": "[encoded data removed]",
      "text/plain": [
       "<Figure size 640x480 with 1 Axes>"
      ]
     },
     "metadata": {},
     "output_type": "display_data"
    },
    {
     "data": {
      "text/plain": [
       "<Figure size 2000x2000 with 0 Axes>"
      ]
     },
     "metadata": {},
     "output_type": "display_data"
    },
    {
     "data": {
      "text/plain": [
       "<Figure size 640x480 with 0 Axes>"
      ]
     },
     "metadata": {},
     "output_type": "display_data"
    }
   ],
   "source": [
    "from PIL import Image\n",
    "wordcloud = WordCloud().generate(comment_words)\n",
    "mask = np.array(Image.open('images/heart-g86a1d62dc_1280.png'))\n",
    "wordcloud = WordCloud(\n",
    "    collocations=False,\n",
    "    max_words=3000,\n",
    "    background_color=\"white\",\n",
    "    width=1800, height=1400,\n",
    "    mask=mask,\n",
    "    stopwords=STOPWORDS,\n",
    ").generate(comment_words)\n",
    "\n",
    "plt.imshow(wordcloud)\n",
    "plt.axis(\"off\")\n",
    "plt.figure(figsize=(20, 20))\n",
    "plt.show()\n",
    "plt.savefig('./images/heart2.png', dpi=300)\n"
   ]
  },
  {
   "cell_type": "code",
   "execution_count": 76,
   "metadata": {},
   "outputs": [],
   "source": [
    "import pickle\n",
    "\n",
    "# Save the model to a file\n",
    "with open(\"model.pkl\", \"wb\") as file:\n",
    "    pickle.dump(svc_clf, file)\n"
   ]
  },
  {
   "cell_type": "code",
   "execution_count": null,
   "metadata": {},
   "outputs": [],
   "source": []
  }
 ],
 "metadata": {
  "kernelspec": {
   "display_name": "base",
   "language": "python",
   "name": "python3"
  },
  "language_info": {
   "codemirror_mode": {
    "name": "ipython",
    "version": 3
   },
   "file_extension": ".py",
   "mimetype": "text/x-python",
   "name": "python",
   "nbconvert_exporter": "python",
   "pygments_lexer": "ipython3",
   "version": "3.9.13"
  },
  "orig_nbformat": 4,
  "vscode": {
   "interpreter": {
    "hash": "49313cae04563e702afcd133ffff9d1ab7daa4f19d85edb0f0628b223bec4e78"
   }
  }
 },
 "nbformat": 4,
 "nbformat_minor": 2
}
